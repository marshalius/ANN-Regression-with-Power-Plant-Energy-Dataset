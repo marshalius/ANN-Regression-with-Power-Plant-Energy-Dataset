{
 "cells": [
  {
   "cell_type": "markdown",
   "metadata": {
    "id": "3cbb7fRy-eyr"
   },
   "source": [
    "# Artificial Neural Network"
   ]
  },
  {
   "cell_type": "markdown",
   "metadata": {
    "id": "8sNDnxE2-pwE"
   },
   "source": [
    "### Importing the libraries"
   ]
  },
  {
   "cell_type": "code",
   "execution_count": 26,
   "metadata": {
    "executionInfo": {
     "elapsed": 2,
     "status": "ok",
     "timestamp": 1699361117214,
     "user": {
      "displayName": "Candaş KORU",
      "userId": "01520018135198420079"
     },
     "user_tz": -180
    },
    "id": "vcTeBaH1eS8s"
   },
   "outputs": [],
   "source": [
    "import numpy as np\n",
    "import pandas as pd\n",
    "from tensorflow.keras.models import Sequential\n",
    "from tensorflow.keras.layers import Dense\n",
    "from sklearn.model_selection import train_test_split"
   ]
  },
  {
   "cell_type": "markdown",
   "metadata": {
    "id": "AG3FQEch-yuA"
   },
   "source": [
    "## Part 1 - Data Preprocessing"
   ]
  },
  {
   "cell_type": "markdown",
   "metadata": {
    "id": "-4zq8Mza_D9O"
   },
   "source": [
    "### Importing the dataset"
   ]
  },
  {
   "cell_type": "code",
   "execution_count": 4,
   "metadata": {
    "executionInfo": {
     "elapsed": 1405,
     "status": "ok",
     "timestamp": 1699356263265,
     "user": {
      "displayName": "Candaş KORU",
      "userId": "01520018135198420079"
     },
     "user_tz": -180
    },
    "id": "FqWmjzdcehBc"
   },
   "outputs": [],
   "source": [
    "dataset = pd.read_excel('Folds5x2_pp.xlsx')\n",
    "X = dataset.iloc[:,:-1].values\n",
    "y = dataset.iloc[:,-1].values"
   ]
  },
  {
   "cell_type": "markdown",
   "metadata": {
    "id": "VC6omXel_Up0"
   },
   "source": [
    "### Splitting the dataset into the Training set and Test set"
   ]
  },
  {
   "cell_type": "code",
   "execution_count": 7,
   "metadata": {
    "executionInfo": {
     "elapsed": 340,
     "status": "ok",
     "timestamp": 1699356905323,
     "user": {
      "displayName": "Candaş KORU",
      "userId": "01520018135198420079"
     },
     "user_tz": -180
    },
    "id": "Ey5GM5QYehak"
   },
   "outputs": [],
   "source": [
    "X_train, X_test, y_train, y_test = train_test_split(X, y, test_size=0.2, random_state=0)"
   ]
  },
  {
   "cell_type": "markdown",
   "metadata": {
    "id": "_mSLlAT9_eyI"
   },
   "source": [
    "## Part 2 - Building the ANN"
   ]
  },
  {
   "cell_type": "markdown",
   "metadata": {
    "id": "CsBULd_f_wLY"
   },
   "source": [
    "### Initializing the ANN"
   ]
  },
  {
   "cell_type": "code",
   "execution_count": 8,
   "metadata": {
    "executionInfo": {
     "elapsed": 266,
     "status": "ok",
     "timestamp": 1699357336532,
     "user": {
      "displayName": "Candaş KORU",
      "userId": "01520018135198420079"
     },
     "user_tz": -180
    },
    "id": "v_4eWtAvkKMd"
   },
   "outputs": [],
   "source": [
    "ann = Sequential()"
   ]
  },
  {
   "cell_type": "markdown",
   "metadata": {
    "id": "iitAFJS_ABUn"
   },
   "source": [
    "### Adding the input layer and the first hidden layer"
   ]
  },
  {
   "cell_type": "code",
   "execution_count": 10,
   "metadata": {
    "executionInfo": {
     "elapsed": 282,
     "status": "ok",
     "timestamp": 1699358359764,
     "user": {
      "displayName": "Candaş KORU",
      "userId": "01520018135198420079"
     },
     "user_tz": -180
    },
    "id": "Q-4mgNEzkKv7"
   },
   "outputs": [],
   "source": [
    "ann.add(Dense(6, 'relu'))"
   ]
  },
  {
   "cell_type": "markdown",
   "metadata": {
    "id": "-lb4kK_wAKbs"
   },
   "source": [
    "### Adding the second hidden layer"
   ]
  },
  {
   "cell_type": "code",
   "execution_count": 11,
   "metadata": {
    "executionInfo": {
     "elapsed": 309,
     "status": "ok",
     "timestamp": 1699358362384,
     "user": {
      "displayName": "Candaş KORU",
      "userId": "01520018135198420079"
     },
     "user_tz": -180
    },
    "id": "boZeD07qkLPL"
   },
   "outputs": [],
   "source": [
    "ann.add(Dense(6, 'relu'))"
   ]
  },
  {
   "cell_type": "markdown",
   "metadata": {
    "id": "jwMOmKb3AdBY"
   },
   "source": [
    "### Adding the output layer"
   ]
  },
  {
   "cell_type": "code",
   "execution_count": 12,
   "metadata": {
    "executionInfo": {
     "elapsed": 2,
     "status": "ok",
     "timestamp": 1699358363932,
     "user": {
      "displayName": "Candaş KORU",
      "userId": "01520018135198420079"
     },
     "user_tz": -180
    },
    "id": "NdolheXqkLxq"
   },
   "outputs": [],
   "source": [
    "ann.add(Dense(1))"
   ]
  },
  {
   "cell_type": "markdown",
   "metadata": {
    "id": "fq7e4fF6A1yy"
   },
   "source": [
    "## Part 3 - Training the ANN"
   ]
  },
  {
   "cell_type": "markdown",
   "metadata": {
    "id": "qDeylAs2An25"
   },
   "source": [
    "### Compiling the ANN"
   ]
  },
  {
   "cell_type": "code",
   "execution_count": 13,
   "metadata": {
    "executionInfo": {
     "elapsed": 2,
     "status": "ok",
     "timestamp": 1699358733535,
     "user": {
      "displayName": "Candaş KORU",
      "userId": "01520018135198420079"
     },
     "user_tz": -180
    },
    "id": "Jii-70QnptsR"
   },
   "outputs": [],
   "source": [
    "ann.compile(optimizer='adam', loss='mean_squared_error')"
   ]
  },
  {
   "cell_type": "markdown",
   "metadata": {
    "id": "YjVuiybYOo7r"
   },
   "source": [
    "### Training the ANN model on the Training set"
   ]
  },
  {
   "cell_type": "code",
   "execution_count": 14,
   "metadata": {
    "colab": {
     "base_uri": "https://localhost:8080/"
    },
    "executionInfo": {
     "elapsed": 83404,
     "status": "ok",
     "timestamp": 1699359417756,
     "user": {
      "displayName": "Candaş KORU",
      "userId": "01520018135198420079"
     },
     "user_tz": -180
    },
    "id": "eqQ2jVtlpuMg",
    "outputId": "d847726c-9642-44ed-9e71-0594915a1732"
   },
   "outputs": [
    {
     "name": "stdout",
     "output_type": "stream",
     "text": [
      "Epoch 1/100\n",
      "240/240 [==============================] - 1s 2ms/step - loss: 31913.9824\n",
      "Epoch 2/100\n",
      "240/240 [==============================] - 0s 2ms/step - loss: 260.0304\n",
      "Epoch 3/100\n",
      "240/240 [==============================] - 0s 2ms/step - loss: 249.3789\n",
      "Epoch 4/100\n",
      "240/240 [==============================] - 0s 2ms/step - loss: 236.3869\n",
      "Epoch 5/100\n",
      "240/240 [==============================] - 0s 2ms/step - loss: 221.1078\n",
      "Epoch 6/100\n",
      "240/240 [==============================] - 0s 2ms/step - loss: 204.8815\n",
      "Epoch 7/100\n",
      "240/240 [==============================] - 0s 2ms/step - loss: 187.6790\n",
      "Epoch 8/100\n",
      "240/240 [==============================] - 0s 2ms/step - loss: 170.4008\n",
      "Epoch 9/100\n",
      "240/240 [==============================] - 0s 2ms/step - loss: 153.1724\n",
      "Epoch 10/100\n",
      "240/240 [==============================] - 0s 2ms/step - loss: 136.4907\n",
      "Epoch 11/100\n",
      "240/240 [==============================] - 0s 2ms/step - loss: 121.2579\n",
      "Epoch 12/100\n",
      "240/240 [==============================] - 0s 2ms/step - loss: 106.7800\n",
      "Epoch 13/100\n",
      "240/240 [==============================] - 0s 2ms/step - loss: 93.9925\n",
      "Epoch 14/100\n",
      "240/240 [==============================] - 0s 2ms/step - loss: 83.1480\n",
      "Epoch 15/100\n",
      "240/240 [==============================] - 0s 2ms/step - loss: 74.1532\n",
      "Epoch 16/100\n",
      "240/240 [==============================] - 0s 2ms/step - loss: 66.1728\n",
      "Epoch 17/100\n",
      "240/240 [==============================] - 1s 2ms/step - loss: 59.7841\n",
      "Epoch 18/100\n",
      "240/240 [==============================] - 1s 2ms/step - loss: 54.3658\n",
      "Epoch 19/100\n",
      "240/240 [==============================] - 1s 3ms/step - loss: 50.2747\n",
      "Epoch 20/100\n",
      "240/240 [==============================] - 1s 3ms/step - loss: 46.3824\n",
      "Epoch 21/100\n",
      "240/240 [==============================] - 1s 3ms/step - loss: 43.8936\n",
      "Epoch 22/100\n",
      "240/240 [==============================] - 1s 3ms/step - loss: 41.4983\n",
      "Epoch 23/100\n",
      "240/240 [==============================] - 1s 2ms/step - loss: 39.1178\n",
      "Epoch 24/100\n",
      "240/240 [==============================] - 0s 2ms/step - loss: 37.8452\n",
      "Epoch 25/100\n",
      "240/240 [==============================] - 1s 2ms/step - loss: 36.8530\n",
      "Epoch 26/100\n",
      "240/240 [==============================] - 0s 2ms/step - loss: 35.5186\n",
      "Epoch 27/100\n",
      "240/240 [==============================] - 0s 2ms/step - loss: 34.6935\n",
      "Epoch 28/100\n",
      "240/240 [==============================] - 0s 2ms/step - loss: 33.5342\n",
      "Epoch 29/100\n",
      "240/240 [==============================] - 0s 2ms/step - loss: 33.0127\n",
      "Epoch 30/100\n",
      "240/240 [==============================] - 0s 2ms/step - loss: 32.1821\n",
      "Epoch 31/100\n",
      "240/240 [==============================] - 0s 2ms/step - loss: 31.2928\n",
      "Epoch 32/100\n",
      "240/240 [==============================] - 0s 2ms/step - loss: 30.4752\n",
      "Epoch 33/100\n",
      "240/240 [==============================] - 0s 2ms/step - loss: 29.9907\n",
      "Epoch 34/100\n",
      "240/240 [==============================] - 0s 2ms/step - loss: 29.3820\n",
      "Epoch 35/100\n",
      "240/240 [==============================] - 0s 2ms/step - loss: 30.1158\n",
      "Epoch 36/100\n",
      "240/240 [==============================] - 0s 2ms/step - loss: 29.2421\n",
      "Epoch 37/100\n",
      "240/240 [==============================] - 0s 2ms/step - loss: 27.9740\n",
      "Epoch 38/100\n",
      "240/240 [==============================] - 1s 2ms/step - loss: 28.1586\n",
      "Epoch 39/100\n",
      "240/240 [==============================] - 1s 2ms/step - loss: 28.5688\n",
      "Epoch 40/100\n",
      "240/240 [==============================] - 0s 2ms/step - loss: 27.2814\n",
      "Epoch 41/100\n",
      "240/240 [==============================] - 1s 2ms/step - loss: 28.0676\n",
      "Epoch 42/100\n",
      "240/240 [==============================] - 0s 2ms/step - loss: 27.4331\n",
      "Epoch 43/100\n",
      "240/240 [==============================] - 1s 2ms/step - loss: 27.3418\n",
      "Epoch 44/100\n",
      "240/240 [==============================] - 1s 3ms/step - loss: 27.4462\n",
      "Epoch 45/100\n",
      "240/240 [==============================] - 1s 3ms/step - loss: 27.3400\n",
      "Epoch 46/100\n",
      "240/240 [==============================] - 1s 3ms/step - loss: 27.1732\n",
      "Epoch 47/100\n",
      "240/240 [==============================] - 1s 3ms/step - loss: 26.7342\n",
      "Epoch 48/100\n",
      "240/240 [==============================] - 0s 2ms/step - loss: 27.2120\n",
      "Epoch 49/100\n",
      "240/240 [==============================] - 0s 2ms/step - loss: 27.2292\n",
      "Epoch 50/100\n",
      "240/240 [==============================] - 0s 2ms/step - loss: 26.9184\n",
      "Epoch 51/100\n",
      "240/240 [==============================] - 1s 2ms/step - loss: 26.9404\n",
      "Epoch 52/100\n",
      "240/240 [==============================] - 0s 2ms/step - loss: 26.7544\n",
      "Epoch 53/100\n",
      "240/240 [==============================] - 0s 2ms/step - loss: 26.6800\n",
      "Epoch 54/100\n",
      "240/240 [==============================] - 0s 2ms/step - loss: 27.5514\n",
      "Epoch 55/100\n",
      "240/240 [==============================] - 0s 2ms/step - loss: 26.8201\n",
      "Epoch 56/100\n",
      "240/240 [==============================] - 0s 2ms/step - loss: 27.3096\n",
      "Epoch 57/100\n",
      "240/240 [==============================] - 0s 2ms/step - loss: 26.9507\n",
      "Epoch 58/100\n",
      "240/240 [==============================] - 0s 2ms/step - loss: 26.5612\n",
      "Epoch 59/100\n",
      "240/240 [==============================] - 0s 2ms/step - loss: 26.6020\n",
      "Epoch 60/100\n",
      "240/240 [==============================] - 0s 2ms/step - loss: 26.7597\n",
      "Epoch 61/100\n",
      "240/240 [==============================] - 0s 2ms/step - loss: 26.9841\n",
      "Epoch 62/100\n",
      "240/240 [==============================] - 0s 2ms/step - loss: 27.1898\n",
      "Epoch 63/100\n",
      "240/240 [==============================] - 0s 2ms/step - loss: 27.4225\n",
      "Epoch 64/100\n",
      "240/240 [==============================] - 0s 2ms/step - loss: 26.9524\n",
      "Epoch 65/100\n",
      "240/240 [==============================] - 0s 2ms/step - loss: 26.9859\n",
      "Epoch 66/100\n",
      "240/240 [==============================] - 0s 2ms/step - loss: 26.7380\n",
      "Epoch 67/100\n",
      "240/240 [==============================] - 0s 2ms/step - loss: 27.1356\n",
      "Epoch 68/100\n",
      "240/240 [==============================] - 1s 2ms/step - loss: 26.7331\n",
      "Epoch 69/100\n",
      "240/240 [==============================] - 1s 3ms/step - loss: 26.6596\n",
      "Epoch 70/100\n",
      "240/240 [==============================] - 1s 3ms/step - loss: 26.9391\n",
      "Epoch 71/100\n",
      "240/240 [==============================] - 1s 3ms/step - loss: 26.8665\n",
      "Epoch 72/100\n",
      "240/240 [==============================] - 1s 3ms/step - loss: 27.3220\n",
      "Epoch 73/100\n",
      "240/240 [==============================] - 1s 2ms/step - loss: 27.6077\n",
      "Epoch 74/100\n",
      "240/240 [==============================] - 0s 2ms/step - loss: 26.7495\n",
      "Epoch 75/100\n",
      "240/240 [==============================] - 0s 2ms/step - loss: 26.9530\n",
      "Epoch 76/100\n",
      "240/240 [==============================] - 0s 2ms/step - loss: 27.3159\n",
      "Epoch 77/100\n",
      "240/240 [==============================] - 0s 2ms/step - loss: 26.9318\n",
      "Epoch 78/100\n",
      "240/240 [==============================] - 0s 2ms/step - loss: 27.1837\n",
      "Epoch 79/100\n",
      "240/240 [==============================] - 0s 2ms/step - loss: 26.6819\n",
      "Epoch 80/100\n",
      "240/240 [==============================] - 0s 2ms/step - loss: 26.8328\n",
      "Epoch 81/100\n",
      "240/240 [==============================] - 0s 2ms/step - loss: 26.8344\n",
      "Epoch 82/100\n",
      "240/240 [==============================] - 0s 2ms/step - loss: 27.3279\n",
      "Epoch 83/100\n",
      "240/240 [==============================] - 0s 2ms/step - loss: 27.1074\n",
      "Epoch 84/100\n",
      "240/240 [==============================] - 0s 2ms/step - loss: 27.1040\n",
      "Epoch 85/100\n",
      "240/240 [==============================] - 0s 2ms/step - loss: 26.4457\n",
      "Epoch 86/100\n",
      "240/240 [==============================] - 0s 2ms/step - loss: 26.9670\n",
      "Epoch 87/100\n",
      "240/240 [==============================] - 0s 2ms/step - loss: 26.3691\n",
      "Epoch 88/100\n",
      "240/240 [==============================] - 0s 2ms/step - loss: 27.2756\n",
      "Epoch 89/100\n",
      "240/240 [==============================] - 0s 2ms/step - loss: 26.9383\n",
      "Epoch 90/100\n",
      "240/240 [==============================] - 0s 2ms/step - loss: 26.5126\n",
      "Epoch 91/100\n",
      "240/240 [==============================] - 0s 2ms/step - loss: 26.9224\n",
      "Epoch 92/100\n",
      "240/240 [==============================] - 0s 2ms/step - loss: 27.1913\n",
      "Epoch 93/100\n",
      "240/240 [==============================] - 1s 2ms/step - loss: 27.2645\n",
      "Epoch 94/100\n",
      "240/240 [==============================] - 1s 3ms/step - loss: 27.4594\n",
      "Epoch 95/100\n",
      "240/240 [==============================] - 1s 3ms/step - loss: 26.9144\n",
      "Epoch 96/100\n",
      "240/240 [==============================] - 1s 3ms/step - loss: 26.9838\n",
      "Epoch 97/100\n",
      "240/240 [==============================] - 1s 3ms/step - loss: 26.7454\n",
      "Epoch 98/100\n",
      "240/240 [==============================] - 1s 3ms/step - loss: 26.6942\n",
      "Epoch 99/100\n",
      "240/240 [==============================] - 1s 3ms/step - loss: 26.6980\n",
      "Epoch 100/100\n",
      "240/240 [==============================] - 1s 3ms/step - loss: 27.4782\n"
     ]
    },
    {
     "data": {
      "text/plain": [
       "<keras.src.callbacks.History at 0x7fe3717a33a0>"
      ]
     },
     "execution_count": 14,
     "metadata": {},
     "output_type": "execute_result"
    }
   ],
   "source": [
    "ann.fit(X_train, y_train, batch_size=32, epochs=100)"
   ]
  },
  {
   "cell_type": "markdown",
   "metadata": {
    "id": "0H0zKKNEBLD5"
   },
   "source": [
    "### Predicting the results of the Test set"
   ]
  },
  {
   "cell_type": "code",
   "execution_count": 28,
   "metadata": {
    "colab": {
     "base_uri": "https://localhost:8080/",
     "height": 1000
    },
    "executionInfo": {
     "elapsed": 446,
     "status": "ok",
     "timestamp": 1699361153131,
     "user": {
      "displayName": "Candaş KORU",
      "userId": "01520018135198420079"
     },
     "user_tz": -180
    },
    "id": "kaFAlh96pugJ",
    "outputId": "d7dec402-bbde-46d4-f754-d9fd463affb8"
   },
   "outputs": [
    {
     "name": "stdout",
     "output_type": "stream",
     "text": [
      "60/60 [==============================] - 0s 1ms/step\n"
     ]
    },
    {
     "name": "stderr",
     "output_type": "stream",
     "text": [
      "<ipython-input-28-a517e154c391>:4: FutureWarning: In a future version of pandas all arguments of concat except for the argument 'objs' will be keyword-only.\n",
      "  compare = pd.concat([pd.DataFrame(y_pred, columns=[\"Prediction\"]), pd.DataFrame(y_test.reshape(len(y_test), 1), columns=[\"Original\"])], 1)\n"
     ]
    },
    {
     "data": {
      "text/html": [
       "\n",
       "  <div id=\"df-ba51b7b0-61e3-4d94-92db-4a6e78259dd9\" class=\"colab-df-container\">\n",
       "    <div>\n",
       "<style scoped>\n",
       "    .dataframe tbody tr th:only-of-type {\n",
       "        vertical-align: middle;\n",
       "    }\n",
       "\n",
       "    .dataframe tbody tr th {\n",
       "        vertical-align: top;\n",
       "    }\n",
       "\n",
       "    .dataframe thead th {\n",
       "        text-align: right;\n",
       "    }\n",
       "</style>\n",
       "<table border=\"1\" class=\"dataframe\">\n",
       "  <thead>\n",
       "    <tr style=\"text-align: right;\">\n",
       "      <th></th>\n",
       "      <th>Prediction</th>\n",
       "      <th>Original</th>\n",
       "    </tr>\n",
       "  </thead>\n",
       "  <tbody>\n",
       "    <tr>\n",
       "      <th>0</th>\n",
       "      <td>430.787598</td>\n",
       "      <td>431.23</td>\n",
       "    </tr>\n",
       "    <tr>\n",
       "      <th>1</th>\n",
       "      <td>461.822723</td>\n",
       "      <td>460.01</td>\n",
       "    </tr>\n",
       "    <tr>\n",
       "      <th>2</th>\n",
       "      <td>465.307892</td>\n",
       "      <td>461.14</td>\n",
       "    </tr>\n",
       "    <tr>\n",
       "      <th>3</th>\n",
       "      <td>448.457520</td>\n",
       "      <td>445.90</td>\n",
       "    </tr>\n",
       "    <tr>\n",
       "      <th>4</th>\n",
       "      <td>459.675293</td>\n",
       "      <td>451.29</td>\n",
       "    </tr>\n",
       "    <tr>\n",
       "      <th>5</th>\n",
       "      <td>428.884521</td>\n",
       "      <td>432.68</td>\n",
       "    </tr>\n",
       "    <tr>\n",
       "      <th>6</th>\n",
       "      <td>471.238556</td>\n",
       "      <td>477.50</td>\n",
       "    </tr>\n",
       "    <tr>\n",
       "      <th>7</th>\n",
       "      <td>457.213287</td>\n",
       "      <td>459.68</td>\n",
       "    </tr>\n",
       "    <tr>\n",
       "      <th>8</th>\n",
       "      <td>474.788330</td>\n",
       "      <td>477.50</td>\n",
       "    </tr>\n",
       "    <tr>\n",
       "      <th>9</th>\n",
       "      <td>443.620636</td>\n",
       "      <td>444.99</td>\n",
       "    </tr>\n",
       "    <tr>\n",
       "      <th>10</th>\n",
       "      <td>441.786407</td>\n",
       "      <td>444.37</td>\n",
       "    </tr>\n",
       "    <tr>\n",
       "      <th>11</th>\n",
       "      <td>441.473816</td>\n",
       "      <td>437.04</td>\n",
       "    </tr>\n",
       "    <tr>\n",
       "      <th>12</th>\n",
       "      <td>446.111237</td>\n",
       "      <td>442.34</td>\n",
       "    </tr>\n",
       "    <tr>\n",
       "      <th>13</th>\n",
       "      <td>441.771942</td>\n",
       "      <td>440.74</td>\n",
       "    </tr>\n",
       "    <tr>\n",
       "      <th>14</th>\n",
       "      <td>437.603668</td>\n",
       "      <td>436.55</td>\n",
       "    </tr>\n",
       "    <tr>\n",
       "      <th>15</th>\n",
       "      <td>455.298523</td>\n",
       "      <td>460.24</td>\n",
       "    </tr>\n",
       "    <tr>\n",
       "      <th>16</th>\n",
       "      <td>447.550720</td>\n",
       "      <td>448.66</td>\n",
       "    </tr>\n",
       "    <tr>\n",
       "      <th>17</th>\n",
       "      <td>436.839081</td>\n",
       "      <td>432.94</td>\n",
       "    </tr>\n",
       "    <tr>\n",
       "      <th>18</th>\n",
       "      <td>450.811157</td>\n",
       "      <td>452.82</td>\n",
       "    </tr>\n",
       "    <tr>\n",
       "      <th>19</th>\n",
       "      <td>427.948395</td>\n",
       "      <td>432.20</td>\n",
       "    </tr>\n",
       "    <tr>\n",
       "      <th>20</th>\n",
       "      <td>424.628448</td>\n",
       "      <td>430.96</td>\n",
       "    </tr>\n",
       "    <tr>\n",
       "      <th>21</th>\n",
       "      <td>430.174835</td>\n",
       "      <td>434.65</td>\n",
       "    </tr>\n",
       "    <tr>\n",
       "      <th>22</th>\n",
       "      <td>477.659637</td>\n",
       "      <td>473.56</td>\n",
       "    </tr>\n",
       "    <tr>\n",
       "      <th>23</th>\n",
       "      <td>436.717499</td>\n",
       "      <td>434.47</td>\n",
       "    </tr>\n",
       "    <tr>\n",
       "      <th>24</th>\n",
       "      <td>446.159119</td>\n",
       "      <td>450.92</td>\n",
       "    </tr>\n",
       "    <tr>\n",
       "      <th>25</th>\n",
       "      <td>453.791687</td>\n",
       "      <td>452.82</td>\n",
       "    </tr>\n",
       "    <tr>\n",
       "      <th>26</th>\n",
       "      <td>477.754059</td>\n",
       "      <td>485.94</td>\n",
       "    </tr>\n",
       "    <tr>\n",
       "      <th>27</th>\n",
       "      <td>445.069855</td>\n",
       "      <td>435.47</td>\n",
       "    </tr>\n",
       "    <tr>\n",
       "      <th>28</th>\n",
       "      <td>452.169128</td>\n",
       "      <td>448.96</td>\n",
       "    </tr>\n",
       "    <tr>\n",
       "      <th>29</th>\n",
       "      <td>466.057556</td>\n",
       "      <td>465.89</td>\n",
       "    </tr>\n",
       "  </tbody>\n",
       "</table>\n",
       "</div>\n",
       "    <div class=\"colab-df-buttons\">\n",
       "\n",
       "  <div class=\"colab-df-container\">\n",
       "    <button class=\"colab-df-convert\" onclick=\"convertToInteractive('df-ba51b7b0-61e3-4d94-92db-4a6e78259dd9')\"\n",
       "            title=\"Convert this dataframe to an interactive table.\"\n",
       "            style=\"display:none;\">\n",
       "\n",
       "  <svg xmlns=\"http://www.w3.org/2000/svg\" height=\"24px\" viewBox=\"0 -960 960 960\">\n",
       "    <path d=\"M120-120v-720h720v720H120Zm60-500h600v-160H180v160Zm220 220h160v-160H400v160Zm0 220h160v-160H400v160ZM180-400h160v-160H180v160Zm440 0h160v-160H620v160ZM180-180h160v-160H180v160Zm440 0h160v-160H620v160Z\"/>\n",
       "  </svg>\n",
       "    </button>\n",
       "\n",
       "  <style>\n",
       "    .colab-df-container {\n",
       "      display:flex;\n",
       "      gap: 12px;\n",
       "    }\n",
       "\n",
       "    .colab-df-convert {\n",
       "      background-color: #E8F0FE;\n",
       "      border: none;\n",
       "      border-radius: 50%;\n",
       "      cursor: pointer;\n",
       "      display: none;\n",
       "      fill: #1967D2;\n",
       "      height: 32px;\n",
       "      padding: 0 0 0 0;\n",
       "      width: 32px;\n",
       "    }\n",
       "\n",
       "    .colab-df-convert:hover {\n",
       "      background-color: #E2EBFA;\n",
       "      box-shadow: 0px 1px 2px rgba(60, 64, 67, 0.3), 0px 1px 3px 1px rgba(60, 64, 67, 0.15);\n",
       "      fill: #174EA6;\n",
       "    }\n",
       "\n",
       "    .colab-df-buttons div {\n",
       "      margin-bottom: 4px;\n",
       "    }\n",
       "\n",
       "    [theme=dark] .colab-df-convert {\n",
       "      background-color: #3B4455;\n",
       "      fill: #D2E3FC;\n",
       "    }\n",
       "\n",
       "    [theme=dark] .colab-df-convert:hover {\n",
       "      background-color: #434B5C;\n",
       "      box-shadow: 0px 1px 3px 1px rgba(0, 0, 0, 0.15);\n",
       "      filter: drop-shadow(0px 1px 2px rgba(0, 0, 0, 0.3));\n",
       "      fill: #FFFFFF;\n",
       "    }\n",
       "  </style>\n",
       "\n",
       "    <script>\n",
       "      const buttonEl =\n",
       "        document.querySelector('#df-ba51b7b0-61e3-4d94-92db-4a6e78259dd9 button.colab-df-convert');\n",
       "      buttonEl.style.display =\n",
       "        google.colab.kernel.accessAllowed ? 'block' : 'none';\n",
       "\n",
       "      async function convertToInteractive(key) {\n",
       "        const element = document.querySelector('#df-ba51b7b0-61e3-4d94-92db-4a6e78259dd9');\n",
       "        const dataTable =\n",
       "          await google.colab.kernel.invokeFunction('convertToInteractive',\n",
       "                                                    [key], {});\n",
       "        if (!dataTable) return;\n",
       "\n",
       "        const docLinkHtml = 'Like what you see? Visit the ' +\n",
       "          '<a target=\"_blank\" href=https://colab.research.google.com/notebooks/data_table.ipynb>data table notebook</a>'\n",
       "          + ' to learn more about interactive tables.';\n",
       "        element.innerHTML = '';\n",
       "        dataTable['output_type'] = 'display_data';\n",
       "        await google.colab.output.renderOutput(dataTable, element);\n",
       "        const docLink = document.createElement('div');\n",
       "        docLink.innerHTML = docLinkHtml;\n",
       "        element.appendChild(docLink);\n",
       "      }\n",
       "    </script>\n",
       "  </div>\n",
       "\n",
       "\n",
       "<div id=\"df-86879847-de9f-40eb-891f-9b334211796b\">\n",
       "  <button class=\"colab-df-quickchart\" onclick=\"quickchart('df-86879847-de9f-40eb-891f-9b334211796b')\"\n",
       "            title=\"Suggest charts.\"\n",
       "            style=\"display:none;\">\n",
       "\n",
       "<svg xmlns=\"http://www.w3.org/2000/svg\" height=\"24px\"viewBox=\"0 0 24 24\"\n",
       "     width=\"24px\">\n",
       "    <g>\n",
       "        <path d=\"M19 3H5c-1.1 0-2 .9-2 2v14c0 1.1.9 2 2 2h14c1.1 0 2-.9 2-2V5c0-1.1-.9-2-2-2zM9 17H7v-7h2v7zm4 0h-2V7h2v10zm4 0h-2v-4h2v4z\"/>\n",
       "    </g>\n",
       "</svg>\n",
       "  </button>\n",
       "\n",
       "<style>\n",
       "  .colab-df-quickchart {\n",
       "      --bg-color: #E8F0FE;\n",
       "      --fill-color: #1967D2;\n",
       "      --hover-bg-color: #E2EBFA;\n",
       "      --hover-fill-color: #174EA6;\n",
       "      --disabled-fill-color: #AAA;\n",
       "      --disabled-bg-color: #DDD;\n",
       "  }\n",
       "\n",
       "  [theme=dark] .colab-df-quickchart {\n",
       "      --bg-color: #3B4455;\n",
       "      --fill-color: #D2E3FC;\n",
       "      --hover-bg-color: #434B5C;\n",
       "      --hover-fill-color: #FFFFFF;\n",
       "      --disabled-bg-color: #3B4455;\n",
       "      --disabled-fill-color: #666;\n",
       "  }\n",
       "\n",
       "  .colab-df-quickchart {\n",
       "    background-color: var(--bg-color);\n",
       "    border: none;\n",
       "    border-radius: 50%;\n",
       "    cursor: pointer;\n",
       "    display: none;\n",
       "    fill: var(--fill-color);\n",
       "    height: 32px;\n",
       "    padding: 0;\n",
       "    width: 32px;\n",
       "  }\n",
       "\n",
       "  .colab-df-quickchart:hover {\n",
       "    background-color: var(--hover-bg-color);\n",
       "    box-shadow: 0 1px 2px rgba(60, 64, 67, 0.3), 0 1px 3px 1px rgba(60, 64, 67, 0.15);\n",
       "    fill: var(--button-hover-fill-color);\n",
       "  }\n",
       "\n",
       "  .colab-df-quickchart-complete:disabled,\n",
       "  .colab-df-quickchart-complete:disabled:hover {\n",
       "    background-color: var(--disabled-bg-color);\n",
       "    fill: var(--disabled-fill-color);\n",
       "    box-shadow: none;\n",
       "  }\n",
       "\n",
       "  .colab-df-spinner {\n",
       "    border: 2px solid var(--fill-color);\n",
       "    border-color: transparent;\n",
       "    border-bottom-color: var(--fill-color);\n",
       "    animation:\n",
       "      spin 1s steps(1) infinite;\n",
       "  }\n",
       "\n",
       "  @keyframes spin {\n",
       "    0% {\n",
       "      border-color: transparent;\n",
       "      border-bottom-color: var(--fill-color);\n",
       "      border-left-color: var(--fill-color);\n",
       "    }\n",
       "    20% {\n",
       "      border-color: transparent;\n",
       "      border-left-color: var(--fill-color);\n",
       "      border-top-color: var(--fill-color);\n",
       "    }\n",
       "    30% {\n",
       "      border-color: transparent;\n",
       "      border-left-color: var(--fill-color);\n",
       "      border-top-color: var(--fill-color);\n",
       "      border-right-color: var(--fill-color);\n",
       "    }\n",
       "    40% {\n",
       "      border-color: transparent;\n",
       "      border-right-color: var(--fill-color);\n",
       "      border-top-color: var(--fill-color);\n",
       "    }\n",
       "    60% {\n",
       "      border-color: transparent;\n",
       "      border-right-color: var(--fill-color);\n",
       "    }\n",
       "    80% {\n",
       "      border-color: transparent;\n",
       "      border-right-color: var(--fill-color);\n",
       "      border-bottom-color: var(--fill-color);\n",
       "    }\n",
       "    90% {\n",
       "      border-color: transparent;\n",
       "      border-bottom-color: var(--fill-color);\n",
       "    }\n",
       "  }\n",
       "</style>\n",
       "\n",
       "  <script>\n",
       "    async function quickchart(key) {\n",
       "      const quickchartButtonEl =\n",
       "        document.querySelector('#' + key + ' button');\n",
       "      quickchartButtonEl.disabled = true;  // To prevent multiple clicks.\n",
       "      quickchartButtonEl.classList.add('colab-df-spinner');\n",
       "      try {\n",
       "        const charts = await google.colab.kernel.invokeFunction(\n",
       "            'suggestCharts', [key], {});\n",
       "      } catch (error) {\n",
       "        console.error('Error during call to suggestCharts:', error);\n",
       "      }\n",
       "      quickchartButtonEl.classList.remove('colab-df-spinner');\n",
       "      quickchartButtonEl.classList.add('colab-df-quickchart-complete');\n",
       "    }\n",
       "    (() => {\n",
       "      let quickchartButtonEl =\n",
       "        document.querySelector('#df-86879847-de9f-40eb-891f-9b334211796b button');\n",
       "      quickchartButtonEl.style.display =\n",
       "        google.colab.kernel.accessAllowed ? 'block' : 'none';\n",
       "    })();\n",
       "  </script>\n",
       "</div>\n",
       "    </div>\n",
       "  </div>\n"
      ],
      "text/plain": [
       "    Prediction  Original\n",
       "0   430.787598    431.23\n",
       "1   461.822723    460.01\n",
       "2   465.307892    461.14\n",
       "3   448.457520    445.90\n",
       "4   459.675293    451.29\n",
       "5   428.884521    432.68\n",
       "6   471.238556    477.50\n",
       "7   457.213287    459.68\n",
       "8   474.788330    477.50\n",
       "9   443.620636    444.99\n",
       "10  441.786407    444.37\n",
       "11  441.473816    437.04\n",
       "12  446.111237    442.34\n",
       "13  441.771942    440.74\n",
       "14  437.603668    436.55\n",
       "15  455.298523    460.24\n",
       "16  447.550720    448.66\n",
       "17  436.839081    432.94\n",
       "18  450.811157    452.82\n",
       "19  427.948395    432.20\n",
       "20  424.628448    430.96\n",
       "21  430.174835    434.65\n",
       "22  477.659637    473.56\n",
       "23  436.717499    434.47\n",
       "24  446.159119    450.92\n",
       "25  453.791687    452.82\n",
       "26  477.754059    485.94\n",
       "27  445.069855    435.47\n",
       "28  452.169128    448.96\n",
       "29  466.057556    465.89"
      ]
     },
     "execution_count": 28,
     "metadata": {},
     "output_type": "execute_result"
    }
   ],
   "source": [
    "y_pred = ann.predict(X_test)\n",
    "np.set_printoptions(2)\n",
    "y_pred = y_pred.reshape(len(y_pred), 1)\n",
    "compare = pd.concat([pd.DataFrame(y_pred, columns=[\"Prediction\"]), pd.DataFrame(y_test.reshape(len(y_test), 1), columns=[\"Original\"])], 1)\n",
    "compare.iloc[:30,:]"
   ]
  }
 ],
 "metadata": {
  "colab": {
   "provenance": [
    {
     "file_id": "1eje9zILprgVmohMN7cKykI3fn4FBRPnF",
     "timestamp": 1699355028284
    }
   ]
  },
  "kernelspec": {
   "display_name": "Python 3 (ipykernel)",
   "language": "python",
   "name": "python3"
  },
  "language_info": {
   "codemirror_mode": {
    "name": "ipython",
    "version": 3
   },
   "file_extension": ".py",
   "mimetype": "text/x-python",
   "name": "python",
   "nbconvert_exporter": "python",
   "pygments_lexer": "ipython3",
   "version": "3.10.13"
  }
 },
 "nbformat": 4,
 "nbformat_minor": 1
}
