{
 "cells": [
  {
   "cell_type": "markdown",
   "metadata": {
    "id": "3cbb7fRy-eyr"
   },
   "source": [
    "# Artificial Neural Network"
   ]
  },
  {
   "cell_type": "markdown",
   "metadata": {
    "id": "8sNDnxE2-pwE"
   },
   "source": [
    "### Importing the libraries"
   ]
  },
  {
   "cell_type": "code",
   "execution_count": 22,
   "metadata": {
    "executionInfo": {
     "elapsed": 2,
     "status": "ok",
     "timestamp": 1699361117214,
     "user": {
      "displayName": "Candaş KORU",
      "userId": "01520018135198420079"
     },
     "user_tz": -180
    },
    "id": "vcTeBaH1eS8s"
   },
   "outputs": [],
   "source": [
    "import numpy as np\n",
    "import pandas as pd\n",
    "from tensorflow.keras.models import Sequential\n",
    "from tensorflow.keras.layers import Dense\n",
    "from sklearn.model_selection import train_test_split\n",
    "from sklearn.metrics import r2_score\n",
    "from sklearn.metrics import mean_squared_error"
   ]
  },
  {
   "cell_type": "markdown",
   "metadata": {
    "id": "AG3FQEch-yuA"
   },
   "source": [
    "## Part 1 - Data Preprocessing"
   ]
  },
  {
   "cell_type": "markdown",
   "metadata": {
    "id": "-4zq8Mza_D9O"
   },
   "source": [
    "### Importing the dataset"
   ]
  },
  {
   "cell_type": "code",
   "execution_count": 4,
   "metadata": {
    "executionInfo": {
     "elapsed": 1405,
     "status": "ok",
     "timestamp": 1699356263265,
     "user": {
      "displayName": "Candaş KORU",
      "userId": "01520018135198420079"
     },
     "user_tz": -180
    },
    "id": "FqWmjzdcehBc"
   },
   "outputs": [],
   "source": [
    "dataset = pd.read_excel('Folds5x2_pp.xlsx')\n",
    "X = dataset.iloc[:,:-1].values\n",
    "y = dataset.iloc[:,-1].values"
   ]
  },
  {
   "cell_type": "markdown",
   "metadata": {
    "id": "VC6omXel_Up0"
   },
   "source": [
    "### Splitting the dataset into the Training set and Test set"
   ]
  },
  {
   "cell_type": "code",
   "execution_count": 5,
   "metadata": {
    "executionInfo": {
     "elapsed": 340,
     "status": "ok",
     "timestamp": 1699356905323,
     "user": {
      "displayName": "Candaş KORU",
      "userId": "01520018135198420079"
     },
     "user_tz": -180
    },
    "id": "Ey5GM5QYehak"
   },
   "outputs": [],
   "source": [
    "X_train, X_test, y_train, y_test = train_test_split(X, y, test_size=0.2, random_state=0)"
   ]
  },
  {
   "cell_type": "markdown",
   "metadata": {
    "id": "_mSLlAT9_eyI"
   },
   "source": [
    "## Part 2 - Building the ANN"
   ]
  },
  {
   "cell_type": "markdown",
   "metadata": {
    "id": "CsBULd_f_wLY"
   },
   "source": [
    "### Initializing the ANN"
   ]
  },
  {
   "cell_type": "code",
   "execution_count": 6,
   "metadata": {
    "executionInfo": {
     "elapsed": 266,
     "status": "ok",
     "timestamp": 1699357336532,
     "user": {
      "displayName": "Candaş KORU",
      "userId": "01520018135198420079"
     },
     "user_tz": -180
    },
    "id": "v_4eWtAvkKMd"
   },
   "outputs": [],
   "source": [
    "ann = Sequential()"
   ]
  },
  {
   "cell_type": "markdown",
   "metadata": {
    "id": "iitAFJS_ABUn"
   },
   "source": [
    "### Adding the input layer and the first hidden layer"
   ]
  },
  {
   "cell_type": "code",
   "execution_count": 7,
   "metadata": {
    "executionInfo": {
     "elapsed": 282,
     "status": "ok",
     "timestamp": 1699358359764,
     "user": {
      "displayName": "Candaş KORU",
      "userId": "01520018135198420079"
     },
     "user_tz": -180
    },
    "id": "Q-4mgNEzkKv7"
   },
   "outputs": [],
   "source": [
    "ann.add(Dense(6, 'relu'))"
   ]
  },
  {
   "cell_type": "markdown",
   "metadata": {
    "id": "-lb4kK_wAKbs"
   },
   "source": [
    "### Adding the second hidden layer"
   ]
  },
  {
   "cell_type": "code",
   "execution_count": 8,
   "metadata": {
    "executionInfo": {
     "elapsed": 309,
     "status": "ok",
     "timestamp": 1699358362384,
     "user": {
      "displayName": "Candaş KORU",
      "userId": "01520018135198420079"
     },
     "user_tz": -180
    },
    "id": "boZeD07qkLPL"
   },
   "outputs": [],
   "source": [
    "ann.add(Dense(6, 'relu'))"
   ]
  },
  {
   "cell_type": "markdown",
   "metadata": {
    "id": "jwMOmKb3AdBY"
   },
   "source": [
    "### Adding the output layer"
   ]
  },
  {
   "cell_type": "code",
   "execution_count": 9,
   "metadata": {
    "executionInfo": {
     "elapsed": 2,
     "status": "ok",
     "timestamp": 1699358363932,
     "user": {
      "displayName": "Candaş KORU",
      "userId": "01520018135198420079"
     },
     "user_tz": -180
    },
    "id": "NdolheXqkLxq"
   },
   "outputs": [],
   "source": [
    "ann.add(Dense(1))"
   ]
  },
  {
   "cell_type": "markdown",
   "metadata": {
    "id": "fq7e4fF6A1yy"
   },
   "source": [
    "## Part 3 - Training the ANN"
   ]
  },
  {
   "cell_type": "markdown",
   "metadata": {
    "id": "qDeylAs2An25"
   },
   "source": [
    "### Compiling the ANN"
   ]
  },
  {
   "cell_type": "code",
   "execution_count": 10,
   "metadata": {
    "executionInfo": {
     "elapsed": 2,
     "status": "ok",
     "timestamp": 1699358733535,
     "user": {
      "displayName": "Candaş KORU",
      "userId": "01520018135198420079"
     },
     "user_tz": -180
    },
    "id": "Jii-70QnptsR"
   },
   "outputs": [],
   "source": [
    "ann.compile(optimizer='adam', loss='mean_squared_error')"
   ]
  },
  {
   "cell_type": "markdown",
   "metadata": {
    "id": "YjVuiybYOo7r"
   },
   "source": [
    "### Training the ANN model on the Training set"
   ]
  },
  {
   "cell_type": "code",
   "execution_count": 11,
   "metadata": {
    "colab": {
     "base_uri": "https://localhost:8080/"
    },
    "executionInfo": {
     "elapsed": 83404,
     "status": "ok",
     "timestamp": 1699359417756,
     "user": {
      "displayName": "Candaş KORU",
      "userId": "01520018135198420079"
     },
     "user_tz": -180
    },
    "id": "eqQ2jVtlpuMg",
    "outputId": "d847726c-9642-44ed-9e71-0594915a1732"
   },
   "outputs": [
    {
     "name": "stdout",
     "output_type": "stream",
     "text": [
      "Epoch 1/100\n",
      "240/240 [==============================] - 1s 2ms/step - loss: 46291.8398\n",
      "Epoch 2/100\n",
      "240/240 [==============================] - 1s 2ms/step - loss: 205.8907\n",
      "Epoch 3/100\n",
      "240/240 [==============================] - 0s 2ms/step - loss: 200.4699\n",
      "Epoch 4/100\n",
      "240/240 [==============================] - 0s 2ms/step - loss: 194.7660\n",
      "Epoch 5/100\n",
      "240/240 [==============================] - 0s 2ms/step - loss: 187.4651\n",
      "Epoch 6/100\n",
      "240/240 [==============================] - 1s 2ms/step - loss: 179.3829\n",
      "Epoch 7/100\n",
      "240/240 [==============================] - 1s 2ms/step - loss: 170.6174\n",
      "Epoch 8/100\n",
      "240/240 [==============================] - 1s 2ms/step - loss: 160.8516\n",
      "Epoch 9/100\n",
      "240/240 [==============================] - 1s 2ms/step - loss: 150.5020\n",
      "Epoch 10/100\n",
      "240/240 [==============================] - 1s 2ms/step - loss: 139.5412\n",
      "Epoch 11/100\n",
      "240/240 [==============================] - 1s 2ms/step - loss: 128.4617\n",
      "Epoch 12/100\n",
      "240/240 [==============================] - 1s 2ms/step - loss: 116.9917\n",
      "Epoch 13/100\n",
      "240/240 [==============================] - 1s 2ms/step - loss: 105.5720\n",
      "Epoch 14/100\n",
      "240/240 [==============================] - 1s 2ms/step - loss: 95.1121\n",
      "Epoch 15/100\n",
      "240/240 [==============================] - 1s 2ms/step - loss: 84.7532\n",
      "Epoch 16/100\n",
      "240/240 [==============================] - 1s 2ms/step - loss: 74.9206\n",
      "Epoch 17/100\n",
      "240/240 [==============================] - 1s 2ms/step - loss: 66.2976\n",
      "Epoch 18/100\n",
      "240/240 [==============================] - 1s 2ms/step - loss: 58.4816\n",
      "Epoch 19/100\n",
      "240/240 [==============================] - 1s 2ms/step - loss: 52.1777\n",
      "Epoch 20/100\n",
      "240/240 [==============================] - 1s 2ms/step - loss: 46.8638\n",
      "Epoch 21/100\n",
      "240/240 [==============================] - 0s 2ms/step - loss: 42.6404\n",
      "Epoch 22/100\n",
      "240/240 [==============================] - 1s 2ms/step - loss: 39.0476\n",
      "Epoch 23/100\n",
      "240/240 [==============================] - 0s 2ms/step - loss: 36.4701\n",
      "Epoch 24/100\n",
      "240/240 [==============================] - 1s 2ms/step - loss: 34.4959\n",
      "Epoch 25/100\n",
      "240/240 [==============================] - 0s 2ms/step - loss: 33.0901\n",
      "Epoch 26/100\n",
      "240/240 [==============================] - 1s 2ms/step - loss: 31.7380\n",
      "Epoch 27/100\n",
      "240/240 [==============================] - 0s 2ms/step - loss: 30.7400\n",
      "Epoch 28/100\n",
      "240/240 [==============================] - 0s 2ms/step - loss: 29.9028\n",
      "Epoch 29/100\n",
      "240/240 [==============================] - 0s 2ms/step - loss: 30.1485\n",
      "Epoch 30/100\n",
      "240/240 [==============================] - 1s 2ms/step - loss: 29.0629\n",
      "Epoch 31/100\n",
      "240/240 [==============================] - 0s 2ms/step - loss: 28.6523\n",
      "Epoch 32/100\n",
      "240/240 [==============================] - 1s 2ms/step - loss: 29.0668\n",
      "Epoch 33/100\n",
      "240/240 [==============================] - 0s 2ms/step - loss: 28.1203\n",
      "Epoch 34/100\n",
      "240/240 [==============================] - 0s 2ms/step - loss: 28.1744\n",
      "Epoch 35/100\n",
      "240/240 [==============================] - 0s 2ms/step - loss: 27.7743\n",
      "Epoch 36/100\n",
      "240/240 [==============================] - 0s 2ms/step - loss: 28.0917\n",
      "Epoch 37/100\n",
      "240/240 [==============================] - 0s 2ms/step - loss: 28.4495\n",
      "Epoch 38/100\n",
      "240/240 [==============================] - 0s 2ms/step - loss: 27.4889\n",
      "Epoch 39/100\n",
      "240/240 [==============================] - 1s 2ms/step - loss: 27.9642\n",
      "Epoch 40/100\n",
      "240/240 [==============================] - 1s 2ms/step - loss: 28.1838\n",
      "Epoch 41/100\n",
      "240/240 [==============================] - 1s 2ms/step - loss: 27.5406\n",
      "Epoch 42/100\n",
      "240/240 [==============================] - 1s 2ms/step - loss: 27.2539\n",
      "Epoch 43/100\n",
      "240/240 [==============================] - 1s 2ms/step - loss: 27.5391\n",
      "Epoch 44/100\n",
      "240/240 [==============================] - 1s 2ms/step - loss: 27.4024\n",
      "Epoch 45/100\n",
      "240/240 [==============================] - 0s 2ms/step - loss: 27.5973\n",
      "Epoch 46/100\n",
      "240/240 [==============================] - 0s 2ms/step - loss: 27.0206\n",
      "Epoch 47/100\n",
      "240/240 [==============================] - 0s 2ms/step - loss: 26.9817\n",
      "Epoch 48/100\n",
      "240/240 [==============================] - 0s 2ms/step - loss: 26.9744\n",
      "Epoch 49/100\n",
      "240/240 [==============================] - 0s 2ms/step - loss: 27.1066\n",
      "Epoch 50/100\n",
      "240/240 [==============================] - 0s 2ms/step - loss: 27.2576\n",
      "Epoch 51/100\n",
      "240/240 [==============================] - 0s 2ms/step - loss: 26.9788\n",
      "Epoch 52/100\n",
      "240/240 [==============================] - 0s 2ms/step - loss: 27.1057\n",
      "Epoch 53/100\n",
      "240/240 [==============================] - 0s 2ms/step - loss: 26.8014\n",
      "Epoch 54/100\n",
      "240/240 [==============================] - 0s 2ms/step - loss: 26.6843\n",
      "Epoch 55/100\n",
      "240/240 [==============================] - 0s 2ms/step - loss: 27.0699\n",
      "Epoch 56/100\n",
      "240/240 [==============================] - 0s 2ms/step - loss: 27.1892\n",
      "Epoch 57/100\n",
      "240/240 [==============================] - 0s 2ms/step - loss: 26.9420\n",
      "Epoch 58/100\n",
      "240/240 [==============================] - 0s 2ms/step - loss: 26.6449\n",
      "Epoch 59/100\n",
      "240/240 [==============================] - 0s 2ms/step - loss: 27.1602\n",
      "Epoch 60/100\n",
      "240/240 [==============================] - 0s 2ms/step - loss: 27.0563\n",
      "Epoch 61/100\n",
      "240/240 [==============================] - 0s 2ms/step - loss: 26.8412\n",
      "Epoch 62/100\n",
      "240/240 [==============================] - 0s 2ms/step - loss: 26.7616\n",
      "Epoch 63/100\n",
      "240/240 [==============================] - 0s 2ms/step - loss: 27.1777\n",
      "Epoch 64/100\n",
      "240/240 [==============================] - 1s 2ms/step - loss: 26.7283\n",
      "Epoch 65/100\n",
      "240/240 [==============================] - 1s 2ms/step - loss: 26.7661\n",
      "Epoch 66/100\n",
      "240/240 [==============================] - 1s 2ms/step - loss: 26.6356\n",
      "Epoch 67/100\n",
      "240/240 [==============================] - 1s 2ms/step - loss: 26.8206\n",
      "Epoch 68/100\n",
      "240/240 [==============================] - 1s 2ms/step - loss: 26.5333\n",
      "Epoch 69/100\n",
      "240/240 [==============================] - 1s 2ms/step - loss: 26.3750\n",
      "Epoch 70/100\n",
      "240/240 [==============================] - 1s 2ms/step - loss: 26.8629\n",
      "Epoch 71/100\n",
      "240/240 [==============================] - 1s 2ms/step - loss: 26.4572\n",
      "Epoch 72/100\n",
      "240/240 [==============================] - 1s 2ms/step - loss: 26.7342\n",
      "Epoch 73/100\n",
      "240/240 [==============================] - 1s 2ms/step - loss: 27.1976\n",
      "Epoch 74/100\n",
      "240/240 [==============================] - 1s 2ms/step - loss: 26.3885\n",
      "Epoch 75/100\n",
      "240/240 [==============================] - 1s 2ms/step - loss: 27.1647\n",
      "Epoch 76/100\n",
      "240/240 [==============================] - 1s 2ms/step - loss: 26.5778\n",
      "Epoch 77/100\n",
      "240/240 [==============================] - 0s 2ms/step - loss: 26.7484\n",
      "Epoch 78/100\n",
      "240/240 [==============================] - 0s 2ms/step - loss: 26.9017\n",
      "Epoch 79/100\n",
      "240/240 [==============================] - 0s 2ms/step - loss: 26.8548\n",
      "Epoch 80/100\n",
      "240/240 [==============================] - 0s 2ms/step - loss: 26.8158\n",
      "Epoch 81/100\n",
      "240/240 [==============================] - 0s 2ms/step - loss: 26.8186\n",
      "Epoch 82/100\n",
      "240/240 [==============================] - 0s 2ms/step - loss: 26.5944\n",
      "Epoch 83/100\n",
      "240/240 [==============================] - 1s 2ms/step - loss: 26.5313\n",
      "Epoch 84/100\n",
      "240/240 [==============================] - 0s 2ms/step - loss: 26.5492\n",
      "Epoch 85/100\n",
      "240/240 [==============================] - 0s 2ms/step - loss: 27.2982\n",
      "Epoch 86/100\n",
      "240/240 [==============================] - 0s 2ms/step - loss: 26.5133\n",
      "Epoch 87/100\n",
      "240/240 [==============================] - 0s 2ms/step - loss: 27.0096\n",
      "Epoch 88/100\n",
      "240/240 [==============================] - 0s 2ms/step - loss: 26.6823\n",
      "Epoch 89/100\n",
      "240/240 [==============================] - 0s 2ms/step - loss: 26.7830\n",
      "Epoch 90/100\n",
      "240/240 [==============================] - 0s 2ms/step - loss: 26.5408\n",
      "Epoch 91/100\n",
      "240/240 [==============================] - 1s 2ms/step - loss: 26.4906\n",
      "Epoch 92/100\n",
      "240/240 [==============================] - 1s 2ms/step - loss: 26.5247\n",
      "Epoch 93/100\n",
      "240/240 [==============================] - 1s 2ms/step - loss: 26.9747\n",
      "Epoch 94/100\n",
      "240/240 [==============================] - 0s 2ms/step - loss: 26.6109\n",
      "Epoch 95/100\n",
      "240/240 [==============================] - 1s 2ms/step - loss: 26.3291\n",
      "Epoch 96/100\n",
      "240/240 [==============================] - 1s 2ms/step - loss: 26.6543\n",
      "Epoch 97/100\n",
      "240/240 [==============================] - 1s 2ms/step - loss: 27.0998\n",
      "Epoch 98/100\n"
     ]
    },
    {
     "name": "stdout",
     "output_type": "stream",
     "text": [
      "240/240 [==============================] - 0s 2ms/step - loss: 26.6892\n",
      "Epoch 99/100\n",
      "240/240 [==============================] - 0s 2ms/step - loss: 27.3392\n",
      "Epoch 100/100\n",
      "240/240 [==============================] - 0s 2ms/step - loss: 26.6737\n"
     ]
    },
    {
     "data": {
      "text/plain": [
       "<keras.callbacks.History at 0x21d8e84b790>"
      ]
     },
     "execution_count": 11,
     "metadata": {},
     "output_type": "execute_result"
    }
   ],
   "source": [
    "ann.fit(X_train, y_train, batch_size=32, epochs=100)"
   ]
  },
  {
   "cell_type": "markdown",
   "metadata": {
    "id": "0H0zKKNEBLD5"
   },
   "source": [
    "### Predicting the results of the Test set"
   ]
  },
  {
   "cell_type": "code",
   "execution_count": 21,
   "metadata": {
    "colab": {
     "base_uri": "https://localhost:8080/",
     "height": 1000
    },
    "executionInfo": {
     "elapsed": 446,
     "status": "ok",
     "timestamp": 1699361153131,
     "user": {
      "displayName": "Candaş KORU",
      "userId": "01520018135198420079"
     },
     "user_tz": -180
    },
    "id": "kaFAlh96pugJ",
    "outputId": "d7dec402-bbde-46d4-f754-d9fd463affb8"
   },
   "outputs": [
    {
     "name": "stdout",
     "output_type": "stream",
     "text": [
      "60/60 [==============================] - 0s 1ms/step\n"
     ]
    },
    {
     "data": {
      "text/html": [
       "<div>\n",
       "<style scoped>\n",
       "    .dataframe tbody tr th:only-of-type {\n",
       "        vertical-align: middle;\n",
       "    }\n",
       "\n",
       "    .dataframe tbody tr th {\n",
       "        vertical-align: top;\n",
       "    }\n",
       "\n",
       "    .dataframe thead th {\n",
       "        text-align: right;\n",
       "    }\n",
       "</style>\n",
       "<table border=\"1\" class=\"dataframe\">\n",
       "  <thead>\n",
       "    <tr style=\"text-align: right;\">\n",
       "      <th></th>\n",
       "      <th>Prediction</th>\n",
       "      <th>Original</th>\n",
       "    </tr>\n",
       "  </thead>\n",
       "  <tbody>\n",
       "    <tr>\n",
       "      <th>0</th>\n",
       "      <td>429.855835</td>\n",
       "      <td>431.23</td>\n",
       "    </tr>\n",
       "    <tr>\n",
       "      <th>1</th>\n",
       "      <td>460.890045</td>\n",
       "      <td>460.01</td>\n",
       "    </tr>\n",
       "    <tr>\n",
       "      <th>2</th>\n",
       "      <td>464.412384</td>\n",
       "      <td>461.14</td>\n",
       "    </tr>\n",
       "    <tr>\n",
       "      <th>3</th>\n",
       "      <td>447.528839</td>\n",
       "      <td>445.90</td>\n",
       "    </tr>\n",
       "    <tr>\n",
       "      <th>4</th>\n",
       "      <td>458.661591</td>\n",
       "      <td>451.29</td>\n",
       "    </tr>\n",
       "  </tbody>\n",
       "</table>\n",
       "</div>"
      ],
      "text/plain": [
       "   Prediction  Original\n",
       "0  429.855835    431.23\n",
       "1  460.890045    460.01\n",
       "2  464.412384    461.14\n",
       "3  447.528839    445.90\n",
       "4  458.661591    451.29"
      ]
     },
     "execution_count": 21,
     "metadata": {},
     "output_type": "execute_result"
    }
   ],
   "source": [
    "y_pred = ann.predict(X_test)\n",
    "np.set_printoptions(2)\n",
    "y_pred = y_pred.reshape(len(y_pred), 1)\n",
    "compare = pd.concat([pd.DataFrame(y_pred, columns=[\"Prediction\"]), pd.DataFrame(y_test.reshape(len(y_test), 1), columns=[\"Original\"])], axis=1)\n",
    "compare.head()"
   ]
  },
  {
   "cell_type": "code",
   "execution_count": 24,
   "metadata": {},
   "outputs": [
    {
     "name": "stdout",
     "output_type": "stream",
     "text": [
      "R2 Score: 90%\n",
      "Mean Squared Error: 5%\n"
     ]
    }
   ],
   "source": [
    "rs = r2_score(y_pred, y_test)\n",
    "mse = mean_squared_error(y_pred, y_test)\n",
    "y_mean = np.mean(y_test)\n",
    "print(f'R2 Score: {int(rs*100)}%')\n",
    "print(f'Mean Squared Error: {int(mse/y_mean*100)}%')"
   ]
  },
  {
   "cell_type": "code",
   "execution_count": null,
   "metadata": {},
   "outputs": [],
   "source": []
  }
 ],
 "metadata": {
  "colab": {
   "provenance": [
    {
     "file_id": "1eje9zILprgVmohMN7cKykI3fn4FBRPnF",
     "timestamp": 1699355028284
    }
   ]
  },
  "kernelspec": {
   "display_name": "Python 3 (ipykernel)",
   "language": "python",
   "name": "python3"
  },
  "language_info": {
   "codemirror_mode": {
    "name": "ipython",
    "version": 3
   },
   "file_extension": ".py",
   "mimetype": "text/x-python",
   "name": "python",
   "nbconvert_exporter": "python",
   "pygments_lexer": "ipython3",
   "version": "3.10.13"
  }
 },
 "nbformat": 4,
 "nbformat_minor": 1
}
